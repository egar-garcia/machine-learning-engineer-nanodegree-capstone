{
 "cells": [
  {
   "cell_type": "code",
   "execution_count": 1,
   "metadata": {},
   "outputs": [],
   "source": [
    "import pandas as pd\n",
    "import numpy as np\n",
    "\n",
    "import datetime\n",
    "import pytz\n",
    "import requests\n",
    "from pandas.io.json import json_normalize\n",
    "\n",
    "import matplotlib.pyplot as plt\n",
    "%matplotlib inline"
   ]
  },
  {
   "cell_type": "code",
   "execution_count": 2,
   "metadata": {},
   "outputs": [],
   "source": [
    "IEX_API_URL_TEMPLATE = 'https://api.iextrading.com/1.0/stock/{}/chart/5y'\n",
    "\n",
    "djia_tickers = [\n",
    "    'BA',   'PFE', 'MCD', 'WMT', 'KO',   'MRK',  'HD',   'V',   'JNJ',  'VZ',\n",
    "    'CSCO', 'AXP', 'TRV', 'DIS', 'MSFT', 'UNH',  'DWDP', 'CAT', 'AAPL', 'UTX',\n",
    "    'MMM',  'JPM', 'IBM', 'GS',  'XOM',  'INTC', 'NKE',  'CVX', 'PG',   'WBA' ]"
   ]
  },
  {
   "cell_type": "code",
   "execution_count": null,
   "metadata": {},
   "outputs": [],
   "source": [
    "def format_dataframe(df):\n",
    "    df.date = pd.to_datetime(df.date, format='%Y-%m-%d')\n",
    "\n",
    "    df['year'] = df.date.dt.year\n",
    "    df['month'] = df.date.dt.month\n",
    "    df['day'] = df.date.dt.day\n",
    "    df['week'] = df.date.dt.week\n",
    "    df['dayofweek'] = df.date.dt.dayofweek\n",
    "    df['dayofyear'] = df.date.dt.dayofyear\n",
    "    df['timestamp'] = df.date.values.astype(np.int64)\n",
    "\n",
    "    return df.drop(['label',\n",
    "                    'change', 'changeOverTime', 'changePercent',\n",
    "                    'high', 'low', 'open',\n",
    "                    'unadjustedVolume', 'volume', 'vwap'],\n",
    "                   axis=1)\n",
    "\n",
    "\n",
    "def get_dataframe_from_ticker(ticker_symbol):\n",
    "    r = requests.get(url = IEX_API_URL_TEMPLATE.format(ticker_symbol.lower()))\n",
    "    df = json_normalize(r.json())\n",
    "\n",
    "    df.insert(loc=0, column='symbol', value=ticker_symbol)\n",
    "\n",
    "    return format_dataframe(df)\n",
    "\n",
    "    return df"
   ]
  },
  {
   "cell_type": "code",
   "execution_count": null,
   "metadata": {},
   "outputs": [],
   "source": []
  }
 ],
 "metadata": {
  "kernelspec": {
   "display_name": "Python 3",
   "language": "python",
   "name": "python3"
  },
  "language_info": {
   "codemirror_mode": {
    "name": "ipython",
    "version": 3
   },
   "file_extension": ".py",
   "mimetype": "text/x-python",
   "name": "python",
   "nbconvert_exporter": "python",
   "pygments_lexer": "ipython3",
   "version": "3.5.2"
  }
 },
 "nbformat": 4,
 "nbformat_minor": 2
}
