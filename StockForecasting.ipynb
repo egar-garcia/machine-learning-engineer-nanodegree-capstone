{
 "cells": [
  {
   "cell_type": "markdown",
   "metadata": {},
   "source": [
    "# Requirements"
   ]
  },
  {
   "cell_type": "code",
   "execution_count": 1,
   "metadata": {},
   "outputs": [],
   "source": [
    "import pandas as pd\n",
    "import numpy as np\n",
    "\n",
    "import datetime\n",
    "import pytz\n",
    "import requests\n",
    "from pandas.io.json import json_normalize\n",
    "\n",
    "import pickle\n",
    "\n",
    "import matplotlib.pyplot as plt\n",
    "%matplotlib inline\n",
    "\n",
    "\n",
    "from sklearn.linear_model import LinearRegression"
   ]
  },
  {
   "cell_type": "markdown",
   "metadata": {},
   "source": [
    "# Dataset"
   ]
  },
  {
   "cell_type": "code",
   "execution_count": 2,
   "metadata": {},
   "outputs": [],
   "source": [
    "IEX_API_URL_TEMPLATE = 'https://api.iextrading.com/1.0/stock/{}/chart/{}'\n",
    "\n",
    "HIST_5Y = '5y'\n",
    "HIST_1Y = '1y'\n",
    "HIST_1M = '1m'\n",
    "\n",
    "djia_tickers = [\n",
    "    'BA',   'PFE', 'MCD', 'WMT', 'KO',   'MRK',  'HD',   'V',   'JNJ',  'VZ',\n",
    "    'CSCO', 'AXP', 'TRV', 'DIS', 'MSFT', 'UNH',  'DWDP', 'CAT', 'AAPL', 'UTX',\n",
    "    'MMM',  'JPM', 'IBM', 'GS',  'XOM',  'INTC', 'NKE',  'CVX', 'PG',   'WBA' ]"
   ]
  },
  {
   "cell_type": "code",
   "execution_count": 3,
   "metadata": {},
   "outputs": [],
   "source": [
    "def expand_date(df):\n",
    "    df['year'] = df.date.dt.year\n",
    "    df['month'] = df.date.dt.month\n",
    "    df['day'] = df.date.dt.day\n",
    "    df['week'] = df.date.dt.week\n",
    "    df['dayofweek'] = df.date.dt.dayofweek\n",
    "    df['dayofyear'] = df.date.dt.dayofyear\n",
    "    df['timestamp'] = df.date.values.astype(np.int64)\n",
    "\n",
    "def format_dataset(df):\n",
    "    formated_df = df.drop(['label',\n",
    "                           'change', 'changeOverTime', 'changePercent',\n",
    "                           'high', 'low', 'open',\n",
    "                           'unadjustedVolume', 'volume', 'vwap'],\n",
    "                          axis=1)\n",
    "\n",
    "    expand_date(formated_df)\n",
    "    return formated_df\n",
    "\n",
    "def get_dataset_from_ticker(ticker_symbol, hist_period=HIST_5Y):\n",
    "    r = requests.get(url = IEX_API_URL_TEMPLATE.format(ticker_symbol.lower(), hist_period))\n",
    "    df = json_normalize(r.json())\n",
    "\n",
    "    df.date = pd.to_datetime(df.date, format='%Y-%m-%d')\n",
    "    df.insert(loc=0, column='symbol', value=ticker_symbol)\n",
    "\n",
    "    return format_dataset(df)\n",
    "\n",
    "\n",
    "def get_djia_dataset(hist_period=HIST_5Y):\n",
    "    df = None\n",
    "\n",
    "    for ticker_symbol in djia_tickers:\n",
    "        if df is None:\n",
    "            df = get_dataset_from_ticker(ticker_symbol, hist_period=hist_period)\n",
    "        else:\n",
    "            df = df.append(get_dataset_from_ticker(ticker_symbol, hist_period))\n",
    "\n",
    "    return df\n",
    "\n",
    "\n",
    "def update_djia_dataset(djia_ds):\n",
    "    last_recorded_day = max(djia_ds.date)\n",
    "    today = datetime.datetime.now()\n",
    "    days_to_update = (today - last_recorded_day).days\n",
    "\n",
    "    hist_period = HIST_5Y\n",
    "\n",
    "    if days_to_update < 1:\n",
    "        return djia_ds\n",
    "    elif days_to_update < 28:\n",
    "        hist_period = HIST_1M\n",
    "    elif days_to_update < 365:\n",
    "        hist_period = HIST_1Y\n",
    "\n",
    "    last_djia_ds = get_djia_dataset(hist_period)\n",
    "\n",
    "    return djia_ds.append(last_djia_ds).drop_duplicates(['symbol', 'date'], keep='last')\n",
    "\n",
    "\n",
    "def save_dataset_to_file(ds, file_name):\n",
    "    with open(file_name, 'wb') as fp:\n",
    "        pickle.dump(ds, fp)\n",
    "\n",
    "\n",
    "def load_dataset_from_file(file_name):\n",
    "    with open(file_name, 'rb') as fp:\n",
    "        return pickle.load(fp)"
   ]
  },
  {
   "cell_type": "markdown",
   "metadata": {},
   "source": [
    "# Trading days"
   ]
  },
  {
   "cell_type": "code",
   "execution_count": 4,
   "metadata": {},
   "outputs": [],
   "source": [
    "market_holidays = []\n",
    "\n",
    "def load_market_holidays(market_holidays_file='market_holidays.txt'):\n",
    "    market_holidays.clear()\n",
    "\n",
    "    with open(market_holidays_file) as f:\n",
    "        lines = f.readlines()\n",
    "\n",
    "    for line in lines:\n",
    "        market_holidays.append(datetime.datetime.strptime(line.strip(), '%Y-%m-%d'))\n",
    "\n",
    "load_market_holidays()"
   ]
  },
  {
   "cell_type": "code",
   "execution_count": 5,
   "metadata": {},
   "outputs": [],
   "source": [
    "def is_trading_day(day):\n",
    "    day_of_week = day.weekday()\n",
    "    if day_of_week == 5 or day_of_week == 6 or day in market_holidays:\n",
    "        return False\n",
    "    else:\n",
    "        return True\n",
    "\n",
    "\n",
    "def get_trading_days_in_range(start_date, end_date):\n",
    "    trading_days = []\n",
    "\n",
    "    current_day = start_date\n",
    "    while (current_day <= end_date):\n",
    "        if is_trading_day(current_day):\n",
    "            trading_days.append(current_day)\n",
    "        current_day += datetime.timedelta(days=1)\n",
    "\n",
    "    return trading_days"
   ]
  },
  {
   "cell_type": "code",
   "execution_count": 10,
   "metadata": {},
   "outputs": [],
   "source": [
    "def str_to_datetime(str_date):\n",
    "    return datetime.datetime.strptime(str_date, '%Y-%m-%d')\n",
    "\n",
    "def datetime_array_to_dataframe(days):\n",
    "    return pd.DataFrame({'date': days})"
   ]
  },
  {
   "cell_type": "markdown",
   "metadata": {},
   "source": [
    "# Models"
   ]
  },
  {
   "cell_type": "code",
   "execution_count": 7,
   "metadata": {},
   "outputs": [],
   "source": [
    "class StockForecasterModel:\n",
    "    def __init__(self, ticker, dataset):\n",
    "        self.ticker = ticker\n",
    "        self.dataset = dataset\n",
    "\n",
    "    def getDataset(self):\n",
    "        return self.dataset\n",
    "\n",
    "    def setDataset(self, dataset):\n",
    "        self.dataset = dataset\n",
    "\n",
    "    def train(self, start_date, end_date):\n",
    "        raise NotImplementedError(\"Please Implement this method\")\n",
    "\n",
    "    def predict(self, from_date, to_date):\n",
    "        raise NotImplementedError(\"Please Implement this method\")"
   ]
  },
  {
   "cell_type": "code",
   "execution_count": 8,
   "metadata": {},
   "outputs": [],
   "source": [
    "class LinearStockForecaster(StockForecasterModel):\n",
    "\n",
    "    def __init__(self, ticker, dataset):\n",
    "        StockForecasterModel.__init__(self, ticker, dataset)\n",
    "\n",
    "    def train(self, start_date, end_date):\n",
    "        training_set = self.dataset.query(\n",
    "            \"symbol == '{}' and date >= '{}' and date <= '{}'\"\n",
    "            .format(self.ticker, start_date, end_date))\n",
    "\n",
    "        x = training_set.drop(['symbol', 'date', 'close'], axis=1)\n",
    "        y = training_set.close\n",
    "\n",
    "        self.model = LinearRegression()\n",
    "        self.model.fit(x, y)\n",
    "\n",
    "    def predict(self, from_date, to_date):\n",
    "        days_to_predict = get_trading_days_in_range(from_date, to_date)\n",
    "        x = datetime_array_to_dataframe(days_to_predict)\n",
    "        expand_date(x)\n",
    "        x = x.drop(['date'], axis=1)\n",
    "        return self.model.predict(x)"
   ]
  },
  {
   "cell_type": "code",
   "execution_count": 11,
   "metadata": {},
   "outputs": [
    {
     "name": "stdout",
     "output_type": "stream",
     "text": [
      "[159.82152712 159.87194564 159.92236416 159.97278269 160.02320121\n",
      " 160.17442758 160.2248461  160.27526462 160.32568315 160.37610167\n",
      " 160.52732804 160.57774656 160.62816509 160.67858361 160.72900213\n",
      " 160.8802285  160.93064702 160.98106555 161.03148407 161.08190259\n",
      " 161.23312896 161.78087882 161.83129734 161.88171586 161.93213439\n",
      " 162.08336075 162.13377928 162.1841978  162.23461632 162.28503485\n",
      " 162.43626121 162.48667974 162.53709826 162.58751679 162.63793531\n",
      " 162.78916167 162.8395802  162.88999872 162.94041725 162.99083577\n",
      " 163.19248066 163.24289918 163.29331771 163.85762302 164.00884939\n",
      " 164.05926791 164.10968644 164.16010496 164.21052349 164.36174985\n",
      " 164.41216837 164.4625869  164.51300542 164.56342395 164.71465031\n",
      " 164.76506884 164.81548736 164.86590588 164.91632441 165.06755077\n",
      " 165.1179693  165.16838782 165.21880634 165.26922487]\n"
     ]
    }
   ],
   "source": [
    "djia_ds = load_dataset_from_file('data/djia_20140303-20190315.pkl')\n",
    "\n",
    "m = LinearStockForecaster('AAPL', djia_ds)\n",
    "m.train(str_to_datetime('2015-04-01'), str_to_datetime('2018-03-31'))\n",
    "y = m.predict(str_to_datetime('2018-04-01'), str_to_datetime('2018-06-30'))\n",
    "\n",
    "print(y)"
   ]
  },
  {
   "cell_type": "markdown",
   "metadata": {},
   "source": [
    "# Analysis"
   ]
  },
  {
   "cell_type": "code",
   "execution_count": 16,
   "metadata": {},
   "outputs": [],
   "source": [
    "def rmse(predictions, targets):\n",
    "    return np.sqrt(((predictions - targets) ** 2).mean())"
   ]
  },
  {
   "cell_type": "code",
   "execution_count": 51,
   "metadata": {},
   "outputs": [],
   "source": [
    "def perform_test(dataset, ticker_symbol, model_constructor,\n",
    "                 training_start, training_end,\n",
    "                 validation_days=[1, 7, 15, 30, 60, 90, 180]):\n",
    "\n",
    "    #validation_days = validation_days.sort()\n",
    "\n",
    "    training_set = dataset.query(\"symbol == '{}' and date >= '{}' and date <= '{}'\"\n",
    "                                 .format(ticker_symbol, training_start, training_end))\n",
    "    model = model_constructor(ticker_symbol, training_set)\n",
    "    model.train(training_start, training_end)\n",
    "\n",
    "    for v in validation_days:\n",
    "        validation_start = training_end + datetime.timedelta(days=1)\n",
    "        validation_end = validation_start + datetime.timedelta(days=v)\n",
    "        validation_set = dataset.query(\"symbol == '{}' and date >= '{}' and date <= '{}'\"\n",
    "                                       .format(ticker_symbol, validation_start, validation_end))\n",
    "        preds = model.predict(validation_start, validation_end)\n",
    "        print('Validation {} day{}, RMSE = {}'.format(v, 's' if v != 1 else '', rmse(preds, validation_set.close)))\n",
    "    \n",
    "    plt.plot(training_set.date, training_set.close, label='Training')\n",
    "    plt.plot(validation_set.date, validation_set.close, label='Validation')\n",
    "    plt.plot(validation_set.date, preds, label='Prediction')"
   ]
  },
  {
   "cell_type": "code",
   "execution_count": 52,
   "metadata": {},
   "outputs": [
    {
     "name": "stdout",
     "output_type": "stream",
     "text": [
      "Validation 1 day, RMSE = 4.35837288419421\n",
      "Validation 7 days, RMSE = 7.439487835284438\n",
      "Validation 15 days, RMSE = 9.313557534392915\n",
      "Validation 30 days, RMSE = 8.307899299327511\n",
      "Validation 60 days, RMSE = 16.288076165018804\n",
      "Validation 90 days, RMSE = 18.457619159387807\n",
      "Validation 180 days, RMSE = 30.924583799668095\n"
     ]
    },
    {
     "data": {
      "image/png": "[encoded data removed]",
      "text/plain": [
       "<Figure size 432x288 with 1 Axes>"
      ]
     },
     "metadata": {
      "needs_background": "light"
     },
     "output_type": "display_data"
    }
   ],
   "source": [
    "perform_test(djia_ds, 'AAPL', LinearStockForecaster,\n",
    "             str_to_datetime('2015-04-01'), str_to_datetime('2018-03-31'))"
   ]
  },
  {
   "cell_type": "code",
   "execution_count": null,
   "metadata": {},
   "outputs": [],
   "source": []
  }
 ],
 "metadata": {
  "kernelspec": {
   "display_name": "Python 3",
   "language": "python",
   "name": "python3"
  },
  "language_info": {
   "codemirror_mode": {
    "name": "ipython",
    "version": 3
   },
   "file_extension": ".py",
   "mimetype": "text/x-python",
   "name": "python",
   "nbconvert_exporter": "python",
   "pygments_lexer": "ipython3",
   "version": "3.5.2"
  }
 },
 "nbformat": 4,
 "nbformat_minor": 2
}
