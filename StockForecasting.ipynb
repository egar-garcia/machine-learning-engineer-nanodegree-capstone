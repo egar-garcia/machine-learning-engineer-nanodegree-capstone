{
 "cells": [
  {
   "cell_type": "markdown",
   "metadata": {},
   "source": [
    "# Requirements"
   ]
  },
  {
   "cell_type": "code",
   "execution_count": 1,
   "metadata": {},
   "outputs": [],
   "source": [
    "import pandas as pd\n",
    "import numpy as np\n",
    "\n",
    "import datetime\n",
    "import pytz\n",
    "import requests\n",
    "from pandas.io.json import json_normalize\n",
    "\n",
    "import pickle\n",
    "\n",
    "import os\n",
    "\n",
    "import matplotlib.pyplot as plt\n",
    "%matplotlib inline\n",
    "\n",
    "\n",
    "from sklearn.linear_model import LinearRegression"
   ]
  },
  {
   "cell_type": "code",
   "execution_count": 2,
   "metadata": {},
   "outputs": [],
   "source": [
    "def expand_date_in_dataframe(df):\n",
    "    df['year'] = df.date.dt.year\n",
    "    df['month'] = df.date.dt.month\n",
    "    df['day'] = df.date.dt.day\n",
    "    df['week'] = df.date.dt.week\n",
    "    df['dayofweek'] = df.date.dt.dayofweek\n",
    "    df['dayofyear'] = df.date.dt.dayofyear\n",
    "    df['timestamp'] = df.date.values.astype(np.int64)\n",
    "\n",
    "def str_to_datetime(str_date):\n",
    "    return datetime.datetime.strptime(str_date, '%Y-%m-%d')\n",
    "\n",
    "def datetime_array_to_dataframe(days):\n",
    "    return pd.DataFrame({'date': days})"
   ]
  },
  {
   "cell_type": "markdown",
   "metadata": {},
   "source": [
    "# Dataset"
   ]
  },
  {
   "cell_type": "code",
   "execution_count": 3,
   "metadata": {},
   "outputs": [],
   "source": [
    "class Dataset:\n",
    "\n",
    "    DJIA_TICKERS = [\n",
    "        'BA',   'PFE', 'MCD', 'WMT', 'KO',   'MRK',  'HD',   'V',   'JNJ',  'VZ',\n",
    "        'CSCO', 'AXP', 'TRV', 'DIS', 'MSFT', 'UNH',  'DWDP', 'CAT', 'AAPL', 'UTX',\n",
    "        'MMM',  'JPM', 'IBM', 'GS',  'XOM',  'INTC', 'NKE',  'CVX', 'PG',   'WBA' ]\n",
    "\n",
    "    HIST_5Y = '5y'\n",
    "    HIST_1Y = '1y'\n",
    "    HIST_1M = '1m'\n",
    "\n",
    "    __IEX_API_URL_TEMPLATE = 'https://api.iextrading.com/1.0/stock/{}/chart/{}'\n",
    "\n",
    "\n",
    "    def __init__(self, dataframe=None):\n",
    "        self.dataframe = dataframe\n",
    "\n",
    "\n",
    "    @staticmethod\n",
    "    def __format_dataframe(df):\n",
    "        formated_df = df.drop(['label',\n",
    "                               'change', 'changeOverTime', 'changePercent',\n",
    "                               'high', 'low', 'open',\n",
    "                               'unadjustedVolume', 'volume', 'vwap'],\n",
    "                              axis=1)\n",
    "\n",
    "        expand_date_in_dataframe(formated_df)\n",
    "        return formated_df\n",
    "\n",
    "\n",
    "    @staticmethod\n",
    "    def __get_dataframe_for_ticker(ticker_symbol, hist_period):\n",
    "        r = requests.get(url=Dataset.__IEX_API_URL_TEMPLATE.format(ticker_symbol.lower(), hist_period))\n",
    "        df = json_normalize(r.json())\n",
    "\n",
    "        df.date = pd.to_datetime(df.date, format='%Y-%m-%d')\n",
    "        df.insert(loc=0, column='symbol', value=ticker_symbol)\n",
    "\n",
    "        return Dataset.__format_dataframe(df)\n",
    "\n",
    "\n",
    "    @staticmethod\n",
    "    def __get_djia_dataframe(hist_period):\n",
    "        df = None\n",
    "\n",
    "        for ticker_symbol in Dataset.DJIA_TICKERS:\n",
    "            if df is None:\n",
    "                df = Dataset.__get_dataframe_for_ticker(ticker_symbol, hist_period)\n",
    "            else:\n",
    "                df = df.append(Dataset.__get_dataframe_for_ticker(ticker_symbol, hist_period))\n",
    "\n",
    "        return df\n",
    "\n",
    "\n",
    "    @staticmethod\n",
    "    def __update_djia_dataframe(df):\n",
    "        last_recorded_day = max(df.date)\n",
    "        today = datetime.datetime.now()\n",
    "        days_to_update = (today - last_recorded_day).days\n",
    "\n",
    "        hist_period = Dataset.HIST_5Y\n",
    "\n",
    "        if days_to_update < 1:\n",
    "            return df\n",
    "        elif days_to_update < 28:\n",
    "            hist_period = Dataset.HIST_1M\n",
    "        elif days_to_update < 365:\n",
    "            hist_period = Dataset.HIST_1Y\n",
    "\n",
    "        last_df = Dataset.__get_djia_dataframe(hist_period)\n",
    "\n",
    "        return df.append(last_df).drop_duplicates(['symbol', 'date'], keep='last')\n",
    "\n",
    "\n",
    "    @staticmethod\n",
    "    def loadDatasetFromFile(file_name):\n",
    "        with open(file_name, 'rb') as fp:\n",
    "            return Dataset(pickle.load(fp))\n",
    "\n",
    "\n",
    "    def saveDataToFile(self, file_name=None):\n",
    "        if file_name is None:\n",
    "            file_name = os.path.join(\n",
    "                'data',\n",
    "                'djia_{:%Y%m%d}-{:%Y%m%d}.pkl'.format(min(self.dataframe.date), max(self.dataframe.date)))\n",
    "\n",
    "        with open(file_name, 'wb') as fp:\n",
    "            pickle.dump(self.dataframe, fp)\n",
    "\n",
    "\n",
    "    def createData(self, hist_period=HIST_5Y):\n",
    "        self.dataframe = Dataset.__get_djia_dataframe(hist_period)\n",
    "\n",
    "\n",
    "    def updateData(self):\n",
    "        self.dataframe = Dataset.__update_djia_dataframe(self.dataframe)\n",
    "\n",
    "\n",
    "    def getDataframe(self, ticker_symbol=None, from_date=None, to_date=None):\n",
    "        df = self.dataframe\n",
    "\n",
    "        if ticker_symbol is not None:\n",
    "            if isinstance(ticker_symbol, str):\n",
    "                df = df.query(\"symbol == '{}'\".format(ticker_symbol))\n",
    "            elif isinstance(ticker_symbol, list):\n",
    "                ticker_symbol_query = None\n",
    "                for t in ticker_symbol:\n",
    "                    ticker_symbol_exp = \"symbol == '{}'\".format(t)\n",
    "                    if ticker_symbol_query is None:\n",
    "                        ticker_symbol_query = ticker_symbol_exp\n",
    "                    else:\n",
    "                        ticker_symbol_query += \"or \" + ticker_symbol_exp\n",
    "                df = df.query(ticker_symbol_query)\n",
    "\n",
    "        if from_date is not None:\n",
    "            df = df.query(\"date >= '{}'\".format(from_date))\n",
    "\n",
    "        if to_date is not None:\n",
    "            df = df.query(\"date <= '{}'\".format(to_date))\n",
    "\n",
    "        return df\n",
    "\n",
    "\n",
    "    def getSubset(self, ticker_symbol=None, from_date=None, to_date=None):\n",
    "        df = self.getDataframe(ticker_symbol=ticker_symbol, from_date=from_date, to_date=to_date)\n",
    "        return Dataset(df)"
   ]
  },
  {
   "cell_type": "markdown",
   "metadata": {},
   "source": [
    "# Trading days"
   ]
  },
  {
   "cell_type": "code",
   "execution_count": 4,
   "metadata": {},
   "outputs": [],
   "source": [
    "class TradingDaysHelper:\n",
    "\n",
    "    def __init__(self, market_holidays_file='market_holidays.txt'):\n",
    "        self.market_holidays = []\n",
    "\n",
    "        with open(market_holidays_file) as f:\n",
    "            lines = f.readlines()\n",
    "\n",
    "        for line in lines:\n",
    "            self.market_holidays.append(datetime.datetime.strptime(line.strip(), '%Y-%m-%d'))\n",
    "\n",
    "\n",
    "    def __is_trading_day(self, day):\n",
    "        day_of_week = day.weekday()\n",
    "        if day_of_week == 5 or day_of_week == 6 or day in self.market_holidays:\n",
    "            return False\n",
    "        else:\n",
    "            return True\n",
    "\n",
    "\n",
    "    def get_trading_days_in_range(self, start_date, end_date):\n",
    "        trading_days = []\n",
    "\n",
    "        current_day = start_date\n",
    "        while (current_day <= end_date):\n",
    "            if self.__is_trading_day(current_day):\n",
    "                trading_days.append(current_day)\n",
    "            current_day += datetime.timedelta(days=1)\n",
    "\n",
    "        return trading_days"
   ]
  },
  {
   "cell_type": "markdown",
   "metadata": {},
   "source": [
    "# Models"
   ]
  },
  {
   "cell_type": "code",
   "execution_count": 7,
   "metadata": {},
   "outputs": [],
   "source": [
    "class StockForecasterModel:\n",
    "    def __init__(self, ticker_symbol, dataset, trading_days_helper):\n",
    "        self.ticker_symbol = ticker_symbol\n",
    "        self.dataset = dataset\n",
    "        self.trading_days_helper = trading_days_helper\n",
    "\n",
    "    def train(self, start_date, end_date):\n",
    "        raise NotImplementedError(\"Please Implement this method\")\n",
    "\n",
    "    def predict(self, from_date, to_date):\n",
    "        raise NotImplementedError(\"Please Implement this method\")"
   ]
  },
  {
   "cell_type": "code",
   "execution_count": 10,
   "metadata": {},
   "outputs": [],
   "source": [
    "class LinearStockForecaster(StockForecasterModel):\n",
    "\n",
    "    def __init__(self, ticker_symbol, dataset, trading_days_helper):\n",
    "        StockForecasterModel.__init__(self, ticker_symbol, dataset, trading_days_helper)\n",
    "\n",
    "    def train(self, start_date=None, end_date=None):\n",
    "        training_set = self.dataset.getDataframe(ticker_symbol=self.ticker_symbol,\n",
    "                                                 from_date=start_date, to_date=end_date)\n",
    "\n",
    "        x = training_set.drop(['symbol', 'date', 'close'], axis=1)\n",
    "        y = training_set.close\n",
    "\n",
    "        self.model = LinearRegression()\n",
    "        self.model.fit(x, y)\n",
    "\n",
    "    def predict(self, from_date, to_date):\n",
    "        days_to_predict = self.trading_days_helper.get_trading_days_in_range(from_date, to_date)\n",
    "\n",
    "        x = datetime_array_to_dataframe(days_to_predict)\n",
    "        expand_date_in_dataframe(x)\n",
    "        x = x.drop(['date'], axis=1)\n",
    "\n",
    "        y = self.model.predict(x)\n",
    "        \n",
    "        return pd.DataFrame({'symbol': self.ticker_symbol, 'date': days_to_predict, 'predicted_price': y})"
   ]
  },
  {
   "cell_type": "markdown",
   "metadata": {},
   "source": [
    "# Analysis"
   ]
  },
  {
   "cell_type": "code",
   "execution_count": 12,
   "metadata": {},
   "outputs": [],
   "source": [
    "def rmse(predictions, targets):\n",
    "    return np.sqrt(((predictions - targets) ** 2).mean())"
   ]
  },
  {
   "cell_type": "code",
   "execution_count": 27,
   "metadata": {},
   "outputs": [],
   "source": [
    "def perform_test(dataset, ticker_symbol, model_constructor,\n",
    "                 training_start, training_end,\n",
    "                 validation_days=[1, 7, 15, 30, 60, 90, 180]):\n",
    "\n",
    "    training_ds = ds.getSubset(ticker_symbol=ticker_symbol,\n",
    "                               from_date=training_start, to_date=training_end)\n",
    "\n",
    "    validation_start = training_end + datetime.timedelta(days=1)\n",
    "    validation_ds = ds.getSubset(ticker_symbol=ticker_symbol,\n",
    "                                 from_date=validation_start ,\n",
    "                                 to_date=validation_start + datetime.timedelta(days=max(validation_days)))\n",
    "\n",
    "    model = model_constructor(ticker_symbol, training_ds, trading_days_helper)\n",
    "    model.train(start_date=training_start, end_date=training_end)\n",
    "\n",
    "    for v in validation_days:\n",
    "        validation_end = validation_start + datetime.timedelta(days=v)\n",
    "        preds = model.predict(validation_start, validation_end)\n",
    "        validation_df = validation_ds.getDataframe(ticker_symbol=ticker_symbol,\n",
    "                                                   from_date=validation_start, to_date=validation_end)\n",
    "        print('Validation {} day{}, RMSE = {}'.format(v, 's' if v != 1 else '',\n",
    "                                                      rmse(preds.predicted_price.values, validation_df.close.values)))\n",
    "\n",
    "    plt.plot(training_ds.dataframe.date, training_ds.dataframe.close, label='Training')\n",
    "    plt.plot(validation_ds.dataframe.date, validation_ds.dataframe.close, label='Validation')\n",
    "    plt.plot(preds.date, preds.predicted_price, label='Prediction')"
   ]
  },
  {
   "cell_type": "markdown",
   "metadata": {},
   "source": [
    "# POCs"
   ]
  },
  {
   "cell_type": "code",
   "execution_count": 28,
   "metadata": {},
   "outputs": [
    {
     "name": "stdout",
     "output_type": "stream",
     "text": [
      "Validation 1 day, RMSE = 4.35837288419421\n",
      "Validation 7 days, RMSE = 7.439487835284438\n",
      "Validation 15 days, RMSE = 9.313557534392915\n",
      "Validation 30 days, RMSE = 8.307899299327511\n",
      "Validation 60 days, RMSE = 16.288076165018804\n",
      "Validation 90 days, RMSE = 18.457619159387807\n",
      "Validation 180 days, RMSE = 30.924583799668095\n"
     ]
    },
    {
     "data": {
      "image/png": "[encoded data removed]",
      "text/plain": [
       "<Figure size 432x288 with 1 Axes>"
      ]
     },
     "metadata": {
      "needs_background": "light"
     },
     "output_type": "display_data"
    }
   ],
   "source": [
    "trading_days_helper = TradingDaysHelper()\n",
    "ds = Dataset.loadDatasetFromFile(os.path.join('data', 'djia_20140303-20190315.pkl'))\n",
    "\n",
    "perform_test(ds, 'AAPL', LinearStockForecaster,\n",
    "             str_to_datetime('2015-04-01'), str_to_datetime('2018-03-31'))"
   ]
  },
  {
   "cell_type": "code",
   "execution_count": null,
   "metadata": {},
   "outputs": [],
   "source": [
    "ds = Dataset()\n",
    "ds.loaDataFromFile('data/djia_20140303-20190315.pkl')\n",
    "df = ds.getDataframe(ticker_symbol='AAPL', from_date=str_to_datetime('2015-04-01'), to_date=str_to_datetime('2018-03-31'))\n",
    "plt.plot(df.date, df.close, label='Dates')"
   ]
  },
  {
   "cell_type": "code",
   "execution_count": null,
   "metadata": {},
   "outputs": [],
   "source": [
    "ds = Dataset()\n",
    "ds.loaDataFromFile('data/djia_20140303-20190315.pkl')\n",
    "#ds.createData(hist_period=Dataset.HIST_1Y)\n",
    "#ds.createData()\n",
    "\n",
    "df = ds.getDataframe()\n",
    "print('{} --> {}'.format(min(df.date), max(df.date)))\n",
    "\n",
    "ds.updateData()\n",
    "df = ds.getDataframe()\n",
    "print('{} --> {}'.format(min(df.date), max(df.date)))\n",
    "\n",
    "ds.saveDataToFile()"
   ]
  },
  {
   "cell_type": "code",
   "execution_count": null,
   "metadata": {},
   "outputs": [],
   "source": [
    "perform_test(djia_ds, 'AAPL', LinearStockForecaster,\n",
    "             str_to_datetime('2015-04-01'), str_to_datetime('2018-03-31'))"
   ]
  },
  {
   "cell_type": "code",
   "execution_count": null,
   "metadata": {},
   "outputs": [],
   "source": [
    "h = TradingDaysHelper()\n",
    "days = h.get_trading_days_in_range(TradingDaysHelper.str_to_datetime('2019-04-01'), TradingDaysHelper.str_to_datetime('2019-04-30'))\n",
    "\n",
    "print(days)"
   ]
  },
  {
   "cell_type": "code",
   "execution_count": null,
   "metadata": {},
   "outputs": [],
   "source": [
    "ds = Dataset()\n",
    "ds.loaDataFromFile('data/djia_20140303-20190315.pkl')\n",
    "trading_days_helper = TradingDaysHelper()\n",
    "\n",
    "m = LinearStockForecaster('AAPL', ds, trading_days_helper)\n",
    "m.train(str_to_datetime('2015-04-01'), str_to_datetime('2018-03-31'))\n",
    "preds = m.predict(str_to_datetime('2018-04-01'), str_to_datetime('2018-06-30'))\n",
    "\n",
    "training_set = ds.getDataframe('AAPL', str_to_datetime('2015-04-01'), str_to_datetime('2018-03-31'))\n",
    "validation_set = ds.getDataframe('AAPL', str_to_datetime('2018-04-01'), str_to_datetime('2018-06-30'))\n",
    "\n",
    "plt.plot(training_set.date, training_set.close, label='Training')\n",
    "plt.plot(validation_set.date, validation_set.close, label='Validation')\n",
    "plt.plot(preds.date, preds.predicted_price, label='Prediction')\n",
    "\n",
    "print(preds)"
   ]
  },
  {
   "cell_type": "code",
   "execution_count": 6,
   "metadata": {},
   "outputs": [
    {
     "name": "stdout",
     "output_type": "stream",
     "text": [
      "     symbol   close       date  year  month  day  week  dayofweek  dayofyear  \\\n",
      "1248   MSFT  112.53 2019-03-01  2019      3    1     9          4         60   \n",
      "1249   MSFT  112.26 2019-03-04  2019      3    4    10          0         63   \n",
      "1250   MSFT  111.70 2019-03-05  2019      3    5    10          1         64   \n",
      "1251   MSFT  111.75 2019-03-06  2019      3    6    10          2         65   \n",
      "1252   MSFT  110.39 2019-03-07  2019      3    7    10          3         66   \n",
      "1253   MSFT  110.51 2019-03-08  2019      3    8    10          4         67   \n",
      "1248   AAPL  174.97 2019-03-01  2019      3    1     9          4         60   \n",
      "1249   AAPL  175.85 2019-03-04  2019      3    4    10          0         63   \n",
      "1250   AAPL  175.53 2019-03-05  2019      3    5    10          1         64   \n",
      "1251   AAPL  174.52 2019-03-06  2019      3    6    10          2         65   \n",
      "1252   AAPL  172.50 2019-03-07  2019      3    7    10          3         66   \n",
      "1253   AAPL  172.91 2019-03-08  2019      3    8    10          4         67   \n",
      "1248    IBM  139.20 2019-03-01  2019      3    1     9          4         60   \n",
      "1249    IBM  138.43 2019-03-04  2019      3    4    10          0         63   \n",
      "1250    IBM  137.88 2019-03-05  2019      3    5    10          1         64   \n",
      "1251    IBM  136.98 2019-03-06  2019      3    6    10          2         65   \n",
      "1252    IBM  135.36 2019-03-07  2019      3    7    10          3         66   \n",
      "1253    IBM  135.09 2019-03-08  2019      3    8    10          4         67   \n",
      "\n",
      "                timestamp  \n",
      "1248  1551398400000000000  \n",
      "1249  1551657600000000000  \n",
      "1250  1551744000000000000  \n",
      "1251  1551830400000000000  \n",
      "1252  1551916800000000000  \n",
      "1253  1552003200000000000  \n",
      "1248  1551398400000000000  \n",
      "1249  1551657600000000000  \n",
      "1250  1551744000000000000  \n",
      "1251  1551830400000000000  \n",
      "1252  1551916800000000000  \n",
      "1253  1552003200000000000  \n",
      "1248  1551398400000000000  \n",
      "1249  1551657600000000000  \n",
      "1250  1551744000000000000  \n",
      "1251  1551830400000000000  \n",
      "1252  1551916800000000000  \n",
      "1253  1552003200000000000  \n"
     ]
    }
   ],
   "source": [
    "ds = Dataset.loadDatasetFromFile(os.path.join('data', 'djia_20140303-20190315.pkl'))\n",
    "trading_days_helper = TradingDaysHelper()\n",
    "#print(ds.dataframe)\n",
    "\n",
    "#ts = ds.getSubset(str_to_datetime('2015-04-01'), str_to_datetime('2018-03-31'))\n",
    "#tdf = ts.getDataframe()\n",
    "#print('{} --> {}'.format(min(tdf.date), max(tdf.date)))\n",
    "\n",
    "tds = ds.getSubset(ticker_symbol=['AAPL', 'IBM', 'MSFT'], from_date=str_to_datetime('2019-03-01'), to_date=str_to_datetime('2019-03-10'))\n",
    "print(tds.dataframe)"
   ]
  },
  {
   "cell_type": "code",
   "execution_count": 11,
   "metadata": {},
   "outputs": [
    {
     "name": "stderr",
     "output_type": "stream",
     "text": [
      "/usr/local/lib/python3.5/dist-packages/pandas/plotting/_converter.py:129: FutureWarning: Using an implicitly registered datetime converter for a matplotlib plotting method. The converter was registered by pandas on import. Future versions of pandas will require you to explicitly register matplotlib converters.\n",
      "\n",
      "To register the converters:\n",
      "\t>>> from pandas.plotting import register_matplotlib_converters\n",
      "\t>>> register_matplotlib_converters()\n",
      "  warnings.warn(msg, FutureWarning)\n"
     ]
    },
    {
     "name": "stdout",
     "output_type": "stream",
     "text": [
      "         date  predicted_price symbol\n",
      "0  2018-04-02       159.821527   AAPL\n",
      "1  2018-04-03       159.871946   AAPL\n",
      "2  2018-04-04       159.922364   AAPL\n",
      "3  2018-04-05       159.972783   AAPL\n",
      "4  2018-04-06       160.023201   AAPL\n",
      "5  2018-04-09       160.174428   AAPL\n",
      "6  2018-04-10       160.224846   AAPL\n",
      "7  2018-04-11       160.275265   AAPL\n",
      "8  2018-04-12       160.325683   AAPL\n",
      "9  2018-04-13       160.376102   AAPL\n",
      "10 2018-04-16       160.527328   AAPL\n",
      "11 2018-04-17       160.577747   AAPL\n",
      "12 2018-04-18       160.628165   AAPL\n",
      "13 2018-04-19       160.678584   AAPL\n",
      "14 2018-04-20       160.729002   AAPL\n",
      "15 2018-04-23       160.880228   AAPL\n",
      "16 2018-04-24       160.930647   AAPL\n",
      "17 2018-04-25       160.981066   AAPL\n",
      "18 2018-04-26       161.031484   AAPL\n",
      "19 2018-04-27       161.081903   AAPL\n",
      "20 2018-04-30       161.233129   AAPL\n",
      "21 2018-05-01       161.780879   AAPL\n",
      "22 2018-05-02       161.831297   AAPL\n",
      "23 2018-05-03       161.881716   AAPL\n",
      "24 2018-05-04       161.932134   AAPL\n",
      "25 2018-05-07       162.083361   AAPL\n",
      "26 2018-05-08       162.133779   AAPL\n",
      "27 2018-05-09       162.184198   AAPL\n",
      "28 2018-05-10       162.234616   AAPL\n",
      "29 2018-05-11       162.285035   AAPL\n",
      "..        ...              ...    ...\n",
      "34 2018-05-18       162.637935   AAPL\n",
      "35 2018-05-21       162.789162   AAPL\n",
      "36 2018-05-22       162.839580   AAPL\n",
      "37 2018-05-23       162.889999   AAPL\n",
      "38 2018-05-24       162.940417   AAPL\n",
      "39 2018-05-25       162.990836   AAPL\n",
      "40 2018-05-29       163.192481   AAPL\n",
      "41 2018-05-30       163.242899   AAPL\n",
      "42 2018-05-31       163.293318   AAPL\n",
      "43 2018-06-01       163.857623   AAPL\n",
      "44 2018-06-04       164.008849   AAPL\n",
      "45 2018-06-05       164.059268   AAPL\n",
      "46 2018-06-06       164.109686   AAPL\n",
      "47 2018-06-07       164.160105   AAPL\n",
      "48 2018-06-08       164.210523   AAPL\n",
      "49 2018-06-11       164.361750   AAPL\n",
      "50 2018-06-12       164.412168   AAPL\n",
      "51 2018-06-13       164.462587   AAPL\n",
      "52 2018-06-14       164.513005   AAPL\n",
      "53 2018-06-15       164.563424   AAPL\n",
      "54 2018-06-18       164.714650   AAPL\n",
      "55 2018-06-19       164.765069   AAPL\n",
      "56 2018-06-20       164.815487   AAPL\n",
      "57 2018-06-21       164.865906   AAPL\n",
      "58 2018-06-22       164.916324   AAPL\n",
      "59 2018-06-25       165.067551   AAPL\n",
      "60 2018-06-26       165.117969   AAPL\n",
      "61 2018-06-27       165.168388   AAPL\n",
      "62 2018-06-28       165.218806   AAPL\n",
      "63 2018-06-29       165.269225   AAPL\n",
      "\n",
      "[64 rows x 3 columns]\n"
     ]
    },
    {
     "data": {
      "image/png": "[encoded data removed]",
      "text/plain": [
       "<Figure size 432x288 with 1 Axes>"
      ]
     },
     "metadata": {
      "needs_background": "light"
     },
     "output_type": "display_data"
    }
   ],
   "source": [
    "trading_days_helper = TradingDaysHelper()\n",
    "\n",
    "ds = Dataset.loadDatasetFromFile(os.path.join('data', 'djia_20140303-20190315.pkl'))\n",
    "training_ds = ds.getSubset(ticker_symbol='AAPL',\n",
    "                           from_date=str_to_datetime('2015-04-01'),\n",
    "                           to_date=str_to_datetime('2018-03-31'))\n",
    "validation_ds = ds.getSubset(ticker_symbol='AAPL',\n",
    "                             from_date=str_to_datetime('2018-04-01'),\n",
    "                             to_date=str_to_datetime('2018-06-30'))\n",
    "\n",
    "m = LinearStockForecaster('AAPL', training_ds, trading_days_helper)\n",
    "m.train()\n",
    "preds = m.predict(str_to_datetime('2018-04-01'), str_to_datetime('2018-06-30'))\n",
    "\n",
    "plt.plot(training_ds.dataframe.date, training_ds.dataframe.close, label='Training')\n",
    "plt.plot(validation_ds.dataframe.date, validation_ds.dataframe.close, label='Validation')\n",
    "plt.plot(preds.date, preds.predicted_price, label='Prediction')\n",
    "\n",
    "print(preds)"
   ]
  },
  {
   "cell_type": "code",
   "execution_count": null,
   "metadata": {},
   "outputs": [],
   "source": []
  }
 ],
 "metadata": {
  "kernelspec": {
   "display_name": "Python 3",
   "language": "python",
   "name": "python3"
  },
  "language_info": {
   "codemirror_mode": {
    "name": "ipython",
    "version": 3
   },
   "file_extension": ".py",
   "mimetype": "text/x-python",
   "name": "python",
   "nbconvert_exporter": "python",
   "pygments_lexer": "ipython3",
   "version": "3.5.2"
  }
 },
 "nbformat": 4,
 "nbformat_minor": 2
}
