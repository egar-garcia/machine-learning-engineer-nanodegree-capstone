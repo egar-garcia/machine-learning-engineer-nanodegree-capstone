{
 "cells": [
  {
   "cell_type": "markdown",
   "metadata": {},
   "source": [
    "# Requirements"
   ]
  },
  {
   "cell_type": "code",
   "execution_count": 1,
   "metadata": {},
   "outputs": [],
   "source": [
    "import pandas as pd\n",
    "import numpy as np\n",
    "\n",
    "import datetime\n",
    "import pytz\n",
    "import requests\n",
    "from pandas.io.json import json_normalize\n",
    "\n",
    "import pickle\n",
    "\n",
    "import matplotlib.pyplot as plt\n",
    "%matplotlib inline"
   ]
  },
  {
   "cell_type": "markdown",
   "metadata": {},
   "source": [
    "# Dataset"
   ]
  },
  {
   "cell_type": "code",
   "execution_count": 2,
   "metadata": {},
   "outputs": [],
   "source": [
    "IEX_API_URL_TEMPLATE = 'https://api.iextrading.com/1.0/stock/{}/chart/{}'\n",
    "\n",
    "HIST_5Y = '5y'\n",
    "HIST_1Y = '1y'\n",
    "HIST_1M = '1m'\n",
    "\n",
    "djia_tickers = [\n",
    "    'BA',   'PFE', 'MCD', 'WMT', 'KO',   'MRK',  'HD',   'V',   'JNJ',  'VZ',\n",
    "    'CSCO', 'AXP', 'TRV', 'DIS', 'MSFT', 'UNH',  'DWDP', 'CAT', 'AAPL', 'UTX',\n",
    "    'MMM',  'JPM', 'IBM', 'GS',  'XOM',  'INTC', 'NKE',  'CVX', 'PG',   'WBA' ]"
   ]
  },
  {
   "cell_type": "code",
   "execution_count": 6,
   "metadata": {},
   "outputs": [],
   "source": [
    "def format_dataset(df):\n",
    "    df['year'] = df.date.dt.year\n",
    "    df['month'] = df.date.dt.month\n",
    "    df['day'] = df.date.dt.day\n",
    "    df['week'] = df.date.dt.week\n",
    "    df['dayofweek'] = df.date.dt.dayofweek\n",
    "    df['dayofyear'] = df.date.dt.dayofyear\n",
    "    df['timestamp'] = df.date.values.astype(np.int64)\n",
    "\n",
    "    return df.drop(['label',\n",
    "                    'change', 'changeOverTime', 'changePercent',\n",
    "                    'high', 'low', 'open',\n",
    "                    'unadjustedVolume', 'volume', 'vwap'],\n",
    "                   axis=1)\n",
    "\n",
    "\n",
    "def get_dataset_from_ticker(ticker_symbol, hist_period=HIST_5Y):\n",
    "    r = requests.get(url = IEX_API_URL_TEMPLATE.format(ticker_symbol.lower(), hist_period))\n",
    "    df = json_normalize(r.json())\n",
    "\n",
    "    df.date = pd.to_datetime(df.date, format='%Y-%m-%d')\n",
    "    df.insert(loc=0, column='symbol', value=ticker_symbol)\n",
    "\n",
    "    return format_dataset(df)\n",
    "\n",
    "\n",
    "def get_djia_dataset(hist_period=HIST_5Y):\n",
    "    df = None\n",
    "\n",
    "    for ticker_symbol in djia_tickers:\n",
    "        if df is None:\n",
    "            df = get_dataset_from_ticker(ticker_symbol, hist_period=hist_period)\n",
    "        else:\n",
    "            df = df.append(get_dataset_from_ticker(ticker_symbol, hist_period))\n",
    "\n",
    "    return df\n",
    "\n",
    "\n",
    "def update_djia_dataset(djia_ds):\n",
    "    last_recorded_day = max(djia_ds.date)\n",
    "    today = datetime.datetime.now()\n",
    "    days_to_update = (today - last_recorded_day).days\n",
    "\n",
    "    hist_period = HIST_5Y\n",
    "\n",
    "    if days_to_update < 1:\n",
    "        return djia_ds\n",
    "    elif days_to_update < 28:\n",
    "        hist_period = HIST_1M\n",
    "    elif days_to_update < 365:\n",
    "        hist_period = HIST_1Y\n",
    "\n",
    "    last_djia_ds = get_djia_dataset(hist_period)\n",
    "\n",
    "    return djia_ds.append(last_djia_ds).drop_duplicates(['symbol', 'date'], keep='last')\n",
    "\n",
    "\n",
    "def save_dataset_to_file(ds, file_name):\n",
    "    with open(file_name, 'wb') as fp:\n",
    "        pickle.dump(ds, fp)\n",
    "\n",
    "\n",
    "def load_dataset_from_file(file_name):\n",
    "    with open(file_name, 'rb') as fp:\n",
    "        return pickle.load(fp)"
   ]
  },
  {
   "cell_type": "markdown",
   "metadata": {},
   "source": [
    "# Trading days"
   ]
  },
  {
   "cell_type": "code",
   "execution_count": 7,
   "metadata": {},
   "outputs": [],
   "source": [
    "market_holidays = []\n",
    "\n",
    "def load_market_holidays(market_holidays_file='market_holidays.txt'):\n",
    "    market_holidays.clear()\n",
    "\n",
    "    with open(market_holidays_file) as f:\n",
    "        lines = f.readlines()\n",
    "\n",
    "    for line in lines:\n",
    "        market_holidays.append(datetime.datetime.strptime(line.strip(), '%Y-%m-%d'))\n",
    "\n",
    "load_market_holidays()"
   ]
  },
  {
   "cell_type": "code",
   "execution_count": 9,
   "metadata": {},
   "outputs": [],
   "source": [
    "def is_trading_day(day):\n",
    "    day_of_week = day.weekday()\n",
    "    if day_of_week == 5 or day_of_week == 6 or day in market_holidays:\n",
    "        return False\n",
    "    else:\n",
    "        return True\n",
    "\n",
    "\n",
    "def get_trading_days_in_range(start_date, end_date):\n",
    "    trading_days = []\n",
    "\n",
    "    current_day = start_date\n",
    "    while (current_day <= end_date):\n",
    "        if is_trading_day(current_day):\n",
    "            trading_days.append(current_day)\n",
    "        current_day += datetime.timedelta(days=1)\n",
    "\n",
    "    return trading_days"
   ]
  },
  {
   "cell_type": "code",
   "execution_count": null,
   "metadata": {},
   "outputs": [],
   "source": []
  }
 ],
 "metadata": {
  "kernelspec": {
   "display_name": "Python 3",
   "language": "python",
   "name": "python3"
  },
  "language_info": {
   "codemirror_mode": {
    "name": "ipython",
    "version": 3
   },
   "file_extension": ".py",
   "mimetype": "text/x-python",
   "name": "python",
   "nbconvert_exporter": "python",
   "pygments_lexer": "ipython3",
   "version": "3.5.2"
  }
 },
 "nbformat": 4,
 "nbformat_minor": 2
}
